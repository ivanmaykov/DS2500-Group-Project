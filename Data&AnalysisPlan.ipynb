{
 "cells": [
  {
   "cell_type": "markdown",
   "metadata": {},
   "source": [
    "# 1. Expresses the central motivation of the project in one or two sentences. This may evolve a bit through the project.\n",
    "\n",
    "During this project, we want to be able to artificially generate a visual representation of sound-to-color synesthesia, a condition in which an individual sees colors in response to hearing specific noises. By translating frequencies into colors, we wish to create a program that can generate colors based on an inputted song. We can do this by training on a data set with .wav signals from a simple piano performance that are paired with color."
   ]
  },
  {
   "cell_type": "markdown",
   "metadata": {},
   "source": [
    "# Visualization 1"
   ]
  },
  {
   "cell_type": "code",
   "execution_count": null,
   "metadata": {},
   "outputs": [],
   "source": []
  },
  {
   "cell_type": "markdown",
   "metadata": {},
   "source": [
    "# Visualization 2"
   ]
  },
  {
   "cell_type": "code",
   "execution_count": null,
   "metadata": {},
   "outputs": [],
   "source": []
  },
  {
   "cell_type": "markdown",
   "metadata": {},
   "source": [
    "# 3. Discuss what ML tools will be used. Its expected that many (most) analyses will fail to produce the results you’re after. Be sure that your ML plans are flexible:\n",
    "\n",
    "We will be using the Kmeans Clustering and KNN Classification. We would initially like to train on KNN Classification (on our simple piano .wav set) \n",
    "- challenging goals should build in “fallback” milestones in the event the stretch goal doesn’t work out as planned\n",
    "- otherwise, include alternate analyses which might also be interesting"
   ]
  }
 ],
 "metadata": {
  "kernelspec": {
   "display_name": "Python 3 (ipykernel)",
   "language": "python",
   "name": "python3"
  },
  "language_info": {
   "codemirror_mode": {
    "name": "ipython",
    "version": 3
   },
   "file_extension": ".py",
   "mimetype": "text/x-python",
   "name": "python",
   "nbconvert_exporter": "python",
   "pygments_lexer": "ipython3",
   "version": "3.11.1"
  },
  "vscode": {
   "interpreter": {
    "hash": "aee8b7b246df8f9039afb4144a1f6fd8d2ca17a180786b69acc140d282b71a49"
   }
  }
 },
 "nbformat": 4,
 "nbformat_minor": 2
}
