{
 "cells": [
  {
   "attachments": {},
   "cell_type": "markdown",
   "metadata": {},
   "source": [
    "# Executive Summary"
   ]
  },
  {
   "attachments": {},
   "cell_type": "markdown",
   "metadata": {},
   "source": [
    "After utilizing a K-Nearest Neighbors classifier, we put it into a confusion matrix. Just by looking at the confusion matrix, our classifier looked like it did a pretty decent job at correctly identifying genres by features. However, when we went to calculate our accuracy score we found that it was around 49%. While our classifier was not entirely successful, we still wanted to talk a look at feature importance through a Random Forest Classifier. From our feature importance chart we saw that the ``'the chroma_stft'`` feature held the most weight when it came to predicting genres, and the ``'tempo'`` feature had the least weight. However, because our accuracy score was considerably low, we must interpret these results with caution. "
   ]
  },
  {
   "attachments": {},
   "cell_type": "markdown",
   "metadata": {},
   "source": [
    "# Introduction "
   ]
  },
  {
   "attachments": {},
   "cell_type": "markdown",
   "metadata": {},
   "source": [
    "In the music industry today, it is no secret that a lot of songs sound similar to each other. This phenomenon is commonly referred to as the ['pop music formula'](https://www.englishclub.com/vocabulary/music-pop.php#:~:text=Songs%20that%20become%20hits%20almost,and%20two%20or%20more%20verses.) or the 'top hit formula'. From a musical standpoint, its easier to understand why exactly this phenomenon is so common in todays pop culture (popular chord progressions/simpler catchier songs), but what about from a more technical viewpoint? What characteristics, on an audio-signal level, define a 'popular' song? What characteristics define specific genres? \n",
    "\n",
    "For this project, we want to be able to predict the genre of a sampled audio file/song based on audio-signal characteristics given in a dataset. We will be doing this by training on said dataset and utilizing the K-Nearest Neighbors Classification. We also want to look at feauture importance through a Random Forest Classification so we can determine what audio-signal characteristics are critical in correctly identifying a genre. "
   ]
  },
  {
   "attachments": {},
   "cell_type": "markdown",
   "metadata": {},
   "source": [
    "# Data Description"
   ]
  },
  {
   "cell_type": "code",
   "execution_count": 1,
   "metadata": {},
   "outputs": [
    {
     "data": {
      "text/html": [
       "<div>\n",
       "<style scoped>\n",
       "    .dataframe tbody tr th:only-of-type {\n",
       "        vertical-align: middle;\n",
       "    }\n",
       "\n",
       "    .dataframe tbody tr th {\n",
       "        vertical-align: top;\n",
       "    }\n",
       "\n",
       "    .dataframe thead th {\n",
       "        text-align: right;\n",
       "    }\n",
       "</style>\n",
       "<table border=\"1\" class=\"dataframe\">\n",
       "  <thead>\n",
       "    <tr style=\"text-align: right;\">\n",
       "      <th></th>\n",
       "      <th>tempo</th>\n",
       "      <th>beats</th>\n",
       "      <th>chroma_stft</th>\n",
       "      <th>rmse</th>\n",
       "      <th>spectral_centroid</th>\n",
       "      <th>spectral_bandwidth</th>\n",
       "      <th>rolloff</th>\n",
       "      <th>zero_crossing_rate</th>\n",
       "    </tr>\n",
       "  </thead>\n",
       "  <tbody>\n",
       "    <tr>\n",
       "      <th>0</th>\n",
       "      <td>103.359375</td>\n",
       "      <td>50</td>\n",
       "      <td>0.380260</td>\n",
       "      <td>0.248262</td>\n",
       "      <td>2116.942959</td>\n",
       "      <td>1956.611056</td>\n",
       "      <td>4196.107960</td>\n",
       "      <td>0.127272</td>\n",
       "    </tr>\n",
       "    <tr>\n",
       "      <th>1</th>\n",
       "      <td>95.703125</td>\n",
       "      <td>44</td>\n",
       "      <td>0.306451</td>\n",
       "      <td>0.113475</td>\n",
       "      <td>1156.070496</td>\n",
       "      <td>1497.668176</td>\n",
       "      <td>2170.053545</td>\n",
       "      <td>0.058613</td>\n",
       "    </tr>\n",
       "    <tr>\n",
       "      <th>2</th>\n",
       "      <td>151.999081</td>\n",
       "      <td>75</td>\n",
       "      <td>0.253487</td>\n",
       "      <td>0.151571</td>\n",
       "      <td>1331.073970</td>\n",
       "      <td>1973.643437</td>\n",
       "      <td>2900.174130</td>\n",
       "      <td>0.042967</td>\n",
       "    </tr>\n",
       "    <tr>\n",
       "      <th>3</th>\n",
       "      <td>184.570312</td>\n",
       "      <td>91</td>\n",
       "      <td>0.269320</td>\n",
       "      <td>0.119072</td>\n",
       "      <td>1361.045467</td>\n",
       "      <td>1567.804596</td>\n",
       "      <td>2739.625101</td>\n",
       "      <td>0.069124</td>\n",
       "    </tr>\n",
       "    <tr>\n",
       "      <th>4</th>\n",
       "      <td>161.499023</td>\n",
       "      <td>74</td>\n",
       "      <td>0.391059</td>\n",
       "      <td>0.137728</td>\n",
       "      <td>1811.076084</td>\n",
       "      <td>2052.332563</td>\n",
       "      <td>3927.809582</td>\n",
       "      <td>0.075480</td>\n",
       "    </tr>\n",
       "  </tbody>\n",
       "</table>\n",
       "</div>"
      ],
      "text/plain": [
       "        tempo  beats  chroma_stft      rmse  spectral_centroid  \\\n",
       "0  103.359375     50     0.380260  0.248262        2116.942959   \n",
       "1   95.703125     44     0.306451  0.113475        1156.070496   \n",
       "2  151.999081     75     0.253487  0.151571        1331.073970   \n",
       "3  184.570312     91     0.269320  0.119072        1361.045467   \n",
       "4  161.499023     74     0.391059  0.137728        1811.076084   \n",
       "\n",
       "   spectral_bandwidth      rolloff  zero_crossing_rate  \n",
       "0         1956.611056  4196.107960            0.127272  \n",
       "1         1497.668176  2170.053545            0.058613  \n",
       "2         1973.643437  2900.174130            0.042967  \n",
       "3         1567.804596  2739.625101            0.069124  \n",
       "4         2052.332563  3927.809582            0.075480  "
      ]
     },
     "execution_count": 1,
     "metadata": {},
     "output_type": "execute_result"
    }
   ],
   "source": [
    "import pandas as pd\n",
    "\n",
    "# using the kaggle csv\n",
    "df = pd.read_csv('music_feats.csv')\n",
    "df = df[['tempo','beats','chroma_stft','rmse','spectral_centroid', 'spectral_bandwidth','rolloff','zero_crossing_rate']]\n",
    "df.head()"
   ]
  },
  {
   "attachments": {},
   "cell_type": "markdown",
   "metadata": {},
   "source": [
    "You can look at our graph [here](https://ibb.co/gzS6S9M) for context."
   ]
  }
 ],
 "metadata": {
  "kernelspec": {
   "display_name": "Python 3",
   "language": "python",
   "name": "python3"
  },
  "language_info": {
   "codemirror_mode": {
    "name": "ipython",
    "version": 3
   },
   "file_extension": ".py",
   "mimetype": "text/x-python",
   "name": "python",
   "nbconvert_exporter": "python",
   "pygments_lexer": "ipython3",
   "version": "3.11.0"
  },
  "orig_nbformat": 4
 },
 "nbformat": 4,
 "nbformat_minor": 2
}
