{
 "cells": [
  {
   "cell_type": "code",
   "execution_count": 1,
   "metadata": {},
   "outputs": [
    {
     "name": "stdout",
     "output_type": "stream",
     "text": [
      "apple\n"
     ]
    }
   ],
   "source": [
    "print(\"apple\")"
   ]
  },
  {
   "cell_type": "code",
   "execution_count": 5,
   "metadata": {},
   "outputs": [
    {
     "ename": "ValueError",
     "evalue": "invalid literal for int() with base 10: ''",
     "output_type": "error",
     "traceback": [
      "\u001b[0;31m---------------------------------------------------------------------------\u001b[0m",
      "\u001b[0;31mValueError\u001b[0m                                Traceback (most recent call last)",
      "Cell \u001b[0;32mIn[5], line 6\u001b[0m\n\u001b[1;32m      3\u001b[0m \u001b[39mfrom\u001b[39;00m \u001b[39mlab_helper\u001b[39;00m \u001b[39mimport\u001b[39;00m get_df_wav, load_wav, get_xy_array\n\u001b[1;32m      5\u001b[0m folder \u001b[39m=\u001b[39m pathlib\u001b[39m.\u001b[39mPath(\u001b[39m'\u001b[39m\u001b[39m.\u001b[39m\u001b[39m'\u001b[39m) \u001b[39m/\u001b[39m  \u001b[39m'\u001b[39m\u001b[39mwavs\u001b[39m\u001b[39m'\u001b[39m\n\u001b[0;32m----> 6\u001b[0m df_wav \u001b[39m=\u001b[39m get_df_wav(folder)\n",
      "File \u001b[0;32m~/Documents/GitHub/DS2500-Group-Project/lab_helper.py:26\u001b[0m, in \u001b[0;36mget_df_wav\u001b[0;34m(folder)\u001b[0m\n\u001b[1;32m     23\u001b[0m \u001b[39mfor\u001b[39;00m file \u001b[39min\u001b[39;00m pathlib\u001b[39m.\u001b[39mPath(folder)\u001b[39m.\u001b[39mglob(\u001b[39m'\u001b[39m\u001b[39m*.wav\u001b[39m\u001b[39m'\u001b[39m):\n\u001b[1;32m     24\u001b[0m     \u001b[39m# get word and idx from file name\u001b[39;00m\n\u001b[1;32m     25\u001b[0m     word \u001b[39m=\u001b[39m file\u001b[39m.\u001b[39mstem\u001b[39m.\u001b[39mrstrip(string\u001b[39m.\u001b[39mdigits)\n\u001b[0;32m---> 26\u001b[0m     idx \u001b[39m=\u001b[39m \u001b[39mint\u001b[39;49m(file\u001b[39m.\u001b[39;49mstem\u001b[39m.\u001b[39;49mreplace(word, \u001b[39m'\u001b[39;49m\u001b[39m'\u001b[39;49m))\n\u001b[1;32m     28\u001b[0m     \u001b[39m# add a row to row_list\u001b[39;00m\n\u001b[1;32m     29\u001b[0m     row \u001b[39m=\u001b[39m {\u001b[39m'\u001b[39m\u001b[39mword\u001b[39m\u001b[39m'\u001b[39m: word, \u001b[39m'\u001b[39m\u001b[39midx\u001b[39m\u001b[39m'\u001b[39m: idx, \u001b[39m'\u001b[39m\u001b[39mfile\u001b[39m\u001b[39m'\u001b[39m: file}\n",
      "\u001b[0;31mValueError\u001b[0m: invalid literal for int() with base 10: ''"
     ]
    }
   ],
   "source": [
    "from scipy.io import wavfile\n",
    "\n",
    "rate,x = wavfile.read(\"wavs/twinkle_twinkle.wav\")\n",
    "return "
   ]
  }
 ],
 "metadata": {
  "kernelspec": {
   "display_name": "Python 3",
   "language": "python",
   "name": "python3"
  },
  "language_info": {
   "codemirror_mode": {
    "name": "ipython",
    "version": 3
   },
   "file_extension": ".py",
   "mimetype": "text/x-python",
   "name": "python",
   "nbconvert_exporter": "python",
   "pygments_lexer": "ipython3",
   "version": "3.11.1"
  },
  "orig_nbformat": 4,
  "vscode": {
   "interpreter": {
    "hash": "aee8b7b246df8f9039afb4144a1f6fd8d2ca17a180786b69acc140d282b71a49"
   }
  }
 },
 "nbformat": 4,
 "nbformat_minor": 2
}
