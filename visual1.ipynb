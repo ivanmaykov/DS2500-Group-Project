{
 "cells": [
  {
   "cell_type": "code",
   "execution_count": 1,
   "metadata": {},
   "outputs": [
    {
     "name": "stdout",
     "output_type": "stream",
     "text": [
      "apple\n"
     ]
    }
   ],
   "source": [
    "print(\"apple\")"
   ]
  },
  {
   "cell_type": "code",
   "execution_count": 5,
   "metadata": {},
   "outputs": [
    {
     "ename": "ValueError",
     "evalue": "invalid literal for int() with base 10: ''",
     "output_type": "error",
     "traceback": [
      "\u001b[0;31m---------------------------------------------------------------------------\u001b[0m",
      "\u001b[0;31mValueError\u001b[0m                                Traceback (most recent call last)",
      "Cell \u001b[0;32mIn[5], line 6\u001b[0m\n\u001b[1;32m      3\u001b[0m \u001b[39mfrom\u001b[39;00m \u001b[39mlab_helper\u001b[39;00m \u001b[39mimport\u001b[39;00m get_df_wav, load_wav, get_xy_array\n\u001b[1;32m      5\u001b[0m folder \u001b[39m=\u001b[39m pathlib\u001b[39m.\u001b[39mPath(\u001b[39m'\u001b[39m\u001b[39m.\u001b[39m\u001b[39m'\u001b[39m) \u001b[39m/\u001b[39m  \u001b[39m'\u001b[39m\u001b[39mwavs\u001b[39m\u001b[39m'\u001b[39m\n\u001b[0;32m----> 6\u001b[0m df_wav \u001b[39m=\u001b[39m get_df_wav(folder)\n",
      "File \u001b[0;32m~/Documents/GitHub/DS2500-Group-Project/lab_helper.py:26\u001b[0m, in \u001b[0;36mget_df_wav\u001b[0;34m(folder)\u001b[0m\n\u001b[1;32m     23\u001b[0m \u001b[39mfor\u001b[39;00m file \u001b[39min\u001b[39;00m pathlib\u001b[39m.\u001b[39mPath(folder)\u001b[39m.\u001b[39mglob(\u001b[39m'\u001b[39m\u001b[39m*.wav\u001b[39m\u001b[39m'\u001b[39m):\n\u001b[1;32m     24\u001b[0m     \u001b[39m# get word and idx from file name\u001b[39;00m\n\u001b[1;32m     25\u001b[0m     word \u001b[39m=\u001b[39m file\u001b[39m.\u001b[39mstem\u001b[39m.\u001b[39mrstrip(string\u001b[39m.\u001b[39mdigits)\n\u001b[0;32m---> 26\u001b[0m     idx \u001b[39m=\u001b[39m \u001b[39mint\u001b[39;49m(file\u001b[39m.\u001b[39;49mstem\u001b[39m.\u001b[39;49mreplace(word, \u001b[39m'\u001b[39;49m\u001b[39m'\u001b[39;49m))\n\u001b[1;32m     28\u001b[0m     \u001b[39m# add a row to row_list\u001b[39;00m\n\u001b[1;32m     29\u001b[0m     row \u001b[39m=\u001b[39m {\u001b[39m'\u001b[39m\u001b[39mword\u001b[39m\u001b[39m'\u001b[39m: word, \u001b[39m'\u001b[39m\u001b[39midx\u001b[39m\u001b[39m'\u001b[39m: idx, \u001b[39m'\u001b[39m\u001b[39mfile\u001b[39m\u001b[39m'\u001b[39m: file}\n",
      "\u001b[0;31mValueError\u001b[0m: invalid literal for int() with base 10: ''"
     ]
    }
   ],
   "source": [
    "from scipy.io import wavfile\n",
    "\n",
    "rate,x = wavfile.read(\"wavs/twinkle_twinkle.wav\")\n",
    "return "
   ]
  },
  {
   "cell_type": "code",
   "execution_count": null,
   "metadata": {},
   "outputs": [],
   "source": [
    "import matplotlib.pyplot as plt\n",
    "import numpy as np\n",
    "import seaborn as sns\n",
    "from scipy.io import wavfile\n",
    "from IPython.display import display, Audio\n",
    "\n",
    "sns.set(font_scale=1.4)\n",
    "\n",
    "class Sound:\n",
    "    \"\"\" a sound, can be played, volume adjusted or appended\n",
    "\n",
    "    Attributes:\n",
    "        x (np.array): an array representing the sound. either\n",
    "            1d (mono) or 2d (stereo) (see note above)\n",
    "        rate (int): frequency, in hertz, that the signal x\n",
    "            should be played at\n",
    "    \"\"\"\n",
    "\n",
    "    def __init__(self, x, rate):\n",
    "        self.x = x.astype(np.int16)\n",
    "        self.rate = rate\n",
    "\n",
    "    @classmethod\n",
    "    def from_wav_file(cls, file):\n",
    "        \"\"\" loads sound from a Wav file\n",
    "        \n",
    "        Args:\n",
    "            file (str): file name (needn't have full path if\n",
    "                file is in same folder as this ipynb)\n",
    "        \"\"\"\n",
    "        rate, x = wavfile.read(str(file))\n",
    "        return Sound(x=x, rate=rate)\n",
    "    \n",
    "    def to_wav_file(self, file):\n",
    "        \"\"\" save sound to a Wav file\n",
    "        \n",
    "        Args:\n",
    "            file (str): file name (needn't have full path if\n",
    "                file is in same folder as this ipynb)\n",
    "        \"\"\"\n",
    "        wavfile.write(file, self.rate, self.x)\n",
    "\n",
    "    def build_jupyter_player(self):\n",
    "        \"\"\" builds and displays jupyter player of sound \"\"\"\n",
    "        display(Audio((self.x[:, 0], self.x[:, 1]), \n",
    "                      rate=self.rate))\n",
    "        \n",
    "    def __mul__(self, other):\n",
    "        \"\"\"multiplies the audio signal by some constant\n",
    "        \n",
    "         Args:\n",
    "            other (int or float): some scale to apply\n",
    "        \"\"\"\n",
    "        assert float(other) >= 0, \\\n",
    "            'Sound can only be multiplied by positive values'\n",
    "        assert type(other) in (int, float), \\\n",
    "            'Sound can only be multiplied by int or float'\n",
    "        \n",
    "        return Sound(x=self.x * other, rate=self.rate)\n",
    "\n",
    "    def __and__(self, other):\n",
    "        \"\"\"appends one noise onto the end of another\n",
    "        \n",
    "        Args:\n",
    "            other (obj): sound to append to original sound\n",
    "        \"\"\"\n",
    "        assert self.rate == other.rate, \\\n",
    "            'Only Sound arrays of same rate can be appended'\n",
    "        \n",
    "        new_sound = np.append(self.x, other.x, axis=0)\n",
    "        return Sound(x=new_sound, rate=self.rate)\n",
    "    \n",
    "    def __add__(self, other):\n",
    "        \"\"\"overlays one sound on top of another\n",
    "        \n",
    "         Args:\n",
    "            other (obj): sound to overlay atop original sound\n",
    "        \"\"\"\n",
    "        assert self.rate == other.rate, \\\n",
    "            'Only Sound arrays of same rate can be overlayed'\n",
    "        \n",
    "        # list to hold both arrays and array shapes\n",
    "        array_ls = [self.x, other.x]\n",
    "        array_sizes = [np.shape(self.x), np.shape(other.x)]\n",
    "        \n",
    "        # finding which is the smaller and larger array (if any)\n",
    "        larger_array = max(array_sizes)\n",
    "        smaller_array = min(array_sizes)\n",
    "        \n",
    "        # finding index of the smaller and larger array for easy access\n",
    "        smaller_idx = array_sizes.index(smaller_array)\n",
    "        larger_idx = array_sizes.index(larger_array)\n",
    "        \n",
    "        # calculates how much bigger the larger array\n",
    "        difference = larger_array[0] - smaller_array[0]\n",
    "        \n",
    "        # appending array of zeroes to fill the difference amount between the arrays\n",
    "        new_array = np.append(array_ls[smaller_idx], np.zeros((difference, 2)), axis = 0)\n",
    "        \n",
    "        # overlaying the arrays\n",
    "        combined_array = array_ls[larger_idx] + new_array\n",
    "        \n",
    "        return Sound(x=combined_array, rate=self.rate)\n",
    "    \n",
    "    def plot(self):\n",
    "        \"\"\"produces a graph of the audio signal\"\"\"\n",
    "        \n",
    "        # list to hold all time indexes in length of array\n",
    "        time_ls = []\n",
    "        for idx in range(len(self.x)):\n",
    "            time_ls.append(idx)\n",
    "            \n",
    "        # plotting right and left audio sides\n",
    "        plt.plot(time_ls, self.x[:, 0], label = \"left\")\n",
    "        plt.plot(time_ls, self.x[:, 1], color = \"darkorange\", label = \"right\")\n",
    "            \n",
    "        # labeling plot and legend\n",
    "        plt.xlabel(\"time\")\n",
    "        plt.ylabel(\"signal\")\n",
    "        plt.legend()\n",
    "        "
   ]
  },
  {
   "cell_type": "code",
   "execution_count": null,
   "metadata": {},
   "outputs": [],
   "source": [
    "thud = Sound.from_wav_file(file='sound_wav/thud_STEREO.wav')\n",
    "\n",
    "thud.build_jupyter_player()"
   ]
  }
 ],
 "metadata": {
  "kernelspec": {
   "display_name": "Python 3 (ipykernel)",
   "language": "python",
   "name": "python3"
  },
  "language_info": {
   "codemirror_mode": {
    "name": "ipython",
    "version": 3
   },
   "file_extension": ".py",
   "mimetype": "text/x-python",
   "name": "python",
   "nbconvert_exporter": "python",
   "pygments_lexer": "ipython3",
   "version": "3.9.13"
  },
  "vscode": {
   "interpreter": {
    "hash": "aee8b7b246df8f9039afb4144a1f6fd8d2ca17a180786b69acc140d282b71a49"
   }
  }
 },
 "nbformat": 4,
 "nbformat_minor": 2
}
